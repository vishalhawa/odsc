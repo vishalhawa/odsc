{
 "cells": [
  {
   "cell_type": "markdown",
   "metadata": {},
   "source": [
    "## Load Libraries\n",
    "Load needed libraries and inspect data. Small simulated dataset with 5 steps V1:V5 and a target column for classificaiton (0= failure, 1= success)"
   ]
  },
  {
   "cell_type": "code",
   "execution_count": 1,
   "metadata": {
    "collapsed": true
   },
   "outputs": [
    {
     "name": "stderr",
     "output_type": "stream",
     "text": [
      "\n",
      "Attaching package: ‘dplyr’\n",
      "\n",
      "\n",
      "The following objects are masked from ‘package:stats’:\n",
      "\n",
      "    filter, lag\n",
      "\n",
      "\n",
      "The following objects are masked from ‘package:base’:\n",
      "\n",
      "    intersect, setdiff, setequal, union\n",
      "\n",
      "\n",
      "\n",
      "Attaching package: ‘glue’\n",
      "\n",
      "\n",
      "The following object is masked from ‘package:dplyr’:\n",
      "\n",
      "    collapse\n",
      "\n",
      "\n",
      "\n",
      "Attaching package: ‘data.table’\n",
      "\n",
      "\n",
      "The following objects are masked from ‘package:dplyr’:\n",
      "\n",
      "    between, first, last\n",
      "\n",
      "\n"
     ]
    },
    {
     "data": {
      "text/html": [
       "'2.1.0'"
      ],
      "text/latex": [
       "'2.1.0'"
      ],
      "text/markdown": [
       "'2.1.0'"
      ],
      "text/plain": [
       "[1] \"2.1.0\""
      ]
     },
     "metadata": {},
     "output_type": "display_data"
    },
    {
     "name": "stdout",
     "output_type": "stream",
     "text": [
      "Loading objects:\n",
      "  df_paths\n",
      "  train_paths\n",
      "  test_paths\n"
     ]
    }
   ],
   "source": [
    "library(magrittr)\n",
    "library(dplyr)\n",
    "library(glue)\n",
    "library(data.table)\n",
    "library(ggplot2)\n",
    "library(tfdatasets)\n",
    "library(tensorflow)\n",
    "library(keras)\n",
    "tf$version$VERSION\n",
    "## load data Channel Dataset-----------------------------------------------------\n",
    "load(file = 'df_paths.rdata',verbose = T)\n",
    "df_paths"
   ]
  },
  {
   "cell_type": "markdown",
   "metadata": {},
   "source": [
    "## Feature Specification\n",
    "Using Specification to create tensors and embeddings for channels."
   ]
  },
  {
   "cell_type": "code",
   "execution_count": 2,
   "metadata": {
    "collapsed": true
   },
   "outputs": [
    {
     "data": {
      "text/plain": [
       "$embedding_V1\n",
       "EmbeddingColumn(categorical_column=VocabularyListCategoricalColumn(key='V1', vocabulary_list=('channel_0', 'channel_1', 'channel_2', 'channel_3', 'channel_4', 'channel_5', 'channel_6', 'channel_7', 'channel_8'), dtype=tf.string, default_value=-1, num_oov_buckets=0), dimension=4, combiner='mean', initializer=<tensorflow.python.ops.init_ops.TruncatedNormal>, ckpt_to_load_from=None, tensor_name_in_ckpt=None, max_norm=None, trainable=True)\n",
       "\n",
       "$embedding_V2\n",
       "EmbeddingColumn(categorical_column=VocabularyListCategoricalColumn(key='V2', vocabulary_list=('channel_0', 'channel_1', 'channel_2', 'channel_3', 'channel_4', 'channel_5', 'channel_6', 'channel_7', 'channel_8'), dtype=tf.string, default_value=-1, num_oov_buckets=0), dimension=4, combiner='mean', initializer=<tensorflow.python.ops.init_ops.TruncatedNormal>, ckpt_to_load_from=None, tensor_name_in_ckpt=None, max_norm=None, trainable=True)\n",
       "\n",
       "$embedding_V3\n",
       "EmbeddingColumn(categorical_column=VocabularyListCategoricalColumn(key='V3', vocabulary_list=('channel_0', 'channel_1', 'channel_2', 'channel_3', 'channel_4', 'channel_5', 'channel_6', 'channel_7', 'channel_8'), dtype=tf.string, default_value=-1, num_oov_buckets=0), dimension=4, combiner='mean', initializer=<tensorflow.python.ops.init_ops.TruncatedNormal>, ckpt_to_load_from=None, tensor_name_in_ckpt=None, max_norm=None, trainable=True)\n",
       "\n",
       "$embedding_V4\n",
       "EmbeddingColumn(categorical_column=VocabularyListCategoricalColumn(key='V4', vocabulary_list=('channel_0', 'channel_1', 'channel_2', 'channel_3', 'channel_4', 'channel_5', 'channel_6', 'channel_7', 'channel_8'), dtype=tf.string, default_value=-1, num_oov_buckets=0), dimension=4, combiner='mean', initializer=<tensorflow.python.ops.init_ops.TruncatedNormal>, ckpt_to_load_from=None, tensor_name_in_ckpt=None, max_norm=None, trainable=True)\n",
       "\n",
       "$embedding_V5\n",
       "EmbeddingColumn(categorical_column=VocabularyListCategoricalColumn(key='V5', vocabulary_list=('channel_0', 'channel_1', 'channel_2', 'channel_3', 'channel_4', 'channel_5', 'channel_6', 'channel_7', 'channel_8'), dtype=tf.string, default_value=-1, num_oov_buckets=0), dimension=4, combiner='mean', initializer=<tensorflow.python.ops.init_ops.TruncatedNormal>, ckpt_to_load_from=None, tensor_name_in_ckpt=None, max_norm=None, trainable=True)\n"
      ]
     },
     "metadata": {},
     "output_type": "display_data"
    }
   ],
   "source": [
    "ft_spec_target <- df_paths %>%\n",
    "      select(-customer_id,-path_no,-path) %>% \n",
    "      feature_spec(target ~ .) %>%\n",
    "      step_categorical_column_with_vocabulary_list(starts_with(\"V\"),vocabulary_list = list('channel_0', 'channel_1', 'channel_2', 'channel_3', 'channel_4', 'channel_5', 'channel_6', 'channel_7', 'channel_8')) %>%\n",
    "      step_embedding_column(starts_with(\"V\"), dimension = function(vocab_size) as.integer(sqrt(vocab_size) + 1)   ## dim=4\n",
    "      ) %>%\n",
    "  fit()\n",
    "\n",
    "ft_spec_target$dense_features() "
   ]
  },
  {
   "cell_type": "markdown",
   "metadata": {},
   "source": [
    "## Build and Train RNN \n",
    "Building an RNN for sequence modeling usually is out first approach. It works but has a few kinks that we will observe."
   ]
  },
  {
   "cell_type": "code",
   "execution_count": 3,
   "metadata": {},
   "outputs": [
    {
     "name": "stdout",
     "output_type": "stream",
     "text": [
      "Build model...\n"
     ]
    }
   ],
   "source": [
    "cat('Build model...\\n')\n",
    " n_lstm = 7\n",
    "batch_size = 32\n",
    "\n",
    "rnn_in <- layer_input_from_dataset(df_paths %>% select(-target)) \n",
    "\n",
    "rnn_out <- \n",
    "  rnn_in %>%\n",
    "  layer_dense_features(ft_spec_target$dense_features()) %>%\n",
    "  layer_reshape(target_shape= list(5,4))  %>%\n",
    "  bidirectional( layer_lstm(units = n_lstm, dropout = 0.2, recurrent_dropout = 0.2) ) %>%  \n",
    "  layer_dense(units = 1, activation = 'sigmoid')\n",
    "\n",
    "rnn <- keras_model(rnn_in, rnn_out)\n",
    "\n",
    "rnn %>% \n",
    "  compile(\n",
    "    loss = \"binary_crossentropy\", \n",
    "    optimizer = \"adam\",\n",
    "    metrics = \"accuracy\"\n",
    "  )\n",
    "\n",
    "rnn %>% fit(x = df_paths %>% select(-target), y = df_paths$target, verbose=2,\n",
    "            validation_split = 0.2, epoch=20 ,batch_size=batch_size )"
   ]
  },
  {
   "cell_type": "code",
   "execution_count": null,
   "metadata": {},
   "outputs": [],
   "source": [
    "rnn_scored = cbind( df_paths , rnn_pred = predict(rnn, df_paths) ) "
   ]
  },
  {
   "cell_type": "markdown",
   "metadata": {},
   "source": [
    "## Flip Channel\n",
    "Alter channel in step 4 and observe the prediction scores swing. It more prominent when data space (possibilities) is large and observations not that many. \n"
   ]
  },
  {
   "cell_type": "code",
   "execution_count": 7,
   "metadata": {
    "collapsed": true
   },
   "outputs": [
    {
     "data": {
      "text/html": [
       "<table>\n",
       "<caption>A data.table: 1 × 10</caption>\n",
       "<thead>\n",
       "\t<tr><th scope=col>customer_id</th><th scope=col>path_no</th><th scope=col>path</th><th scope=col>V1</th><th scope=col>V2</th><th scope=col>V3</th><th scope=col>V4</th><th scope=col>V5</th><th scope=col>target</th><th scope=col>rnn_pred.V1</th></tr>\n",
       "\t<tr><th scope=col>&lt;chr&gt;</th><th scope=col>&lt;dbl&gt;</th><th scope=col>&lt;chr&gt;</th><th scope=col>&lt;chr&gt;</th><th scope=col>&lt;chr&gt;</th><th scope=col>&lt;chr&gt;</th><th scope=col>&lt;chr&gt;</th><th scope=col>&lt;chr&gt;</th><th scope=col>&lt;dbl&gt;</th><th scope=col>&lt;dbl&gt;</th></tr>\n",
       "</thead>\n",
       "<tbody>\n",
       "\t<tr><td>id99</td><td>1</td><td>channel_8-&gt;channel_1-&gt;channel_6-&gt;channel_1-&gt;channel_1-&gt;channel_1-&gt;channel_8</td><td>channel_8</td><td>channel_1</td><td>channel_6</td><td>channel_1</td><td>channel_1</td><td>0</td><td>0.4099931</td></tr>\n",
       "</tbody>\n",
       "</table>\n"
      ],
      "text/latex": [
       "A data.table: 1 × 10\n",
       "\\begin{tabular}{llllllllll}\n",
       " customer\\_id & path\\_no & path & V1 & V2 & V3 & V4 & V5 & target & rnn\\_pred.V1\\\\\n",
       " <chr> & <dbl> & <chr> & <chr> & <chr> & <chr> & <chr> & <chr> & <dbl> & <dbl>\\\\\n",
       "\\hline\n",
       "\t id99 & 1 & channel\\_8->channel\\_1->channel\\_6->channel\\_1->channel\\_1->channel\\_1->channel\\_8 & channel\\_8 & channel\\_1 & channel\\_6 & channel\\_1 & channel\\_1 & 0 & 0.4099931\\\\\n",
       "\\end{tabular}\n"
      ],
      "text/markdown": [
       "\n",
       "A data.table: 1 × 10\n",
       "\n",
       "| customer_id &lt;chr&gt; | path_no &lt;dbl&gt; | path &lt;chr&gt; | V1 &lt;chr&gt; | V2 &lt;chr&gt; | V3 &lt;chr&gt; | V4 &lt;chr&gt; | V5 &lt;chr&gt; | target &lt;dbl&gt; | rnn_pred.V1 &lt;dbl&gt; |\n",
       "|---|---|---|---|---|---|---|---|---|---|\n",
       "| id99 | 1 | channel_8-&gt;channel_1-&gt;channel_6-&gt;channel_1-&gt;channel_1-&gt;channel_1-&gt;channel_8 | channel_8 | channel_1 | channel_6 | channel_1 | channel_1 | 0 | 0.4099931 |\n",
       "\n"
      ],
      "text/plain": [
       "  customer_id path_no\n",
       "1 id99        1      \n",
       "  path                                                                       \n",
       "1 channel_8->channel_1->channel_6->channel_1->channel_1->channel_1->channel_8\n",
       "  V1        V2        V3        V4        V5        target rnn_pred.V1\n",
       "1 channel_8 channel_1 channel_6 channel_1 channel_1 0      0.4099931  "
      ]
     },
     "metadata": {},
     "output_type": "display_data"
    },
    {
     "data": {
      "text/html": [
       "<table>\n",
       "<caption>A matrix: 1 × 1 of type dbl</caption>\n",
       "<tbody>\n",
       "\t<tr><td>0.9980208</td></tr>\n",
       "</tbody>\n",
       "</table>\n"
      ],
      "text/latex": [
       "A matrix: 1 × 1 of type dbl\n",
       "\\begin{tabular}{l}\n",
       "\t 0.9980208\\\\\n",
       "\\end{tabular}\n"
      ],
      "text/markdown": [
       "\n",
       "A matrix: 1 × 1 of type dbl\n",
       "\n",
       "| 0.9980208 |\n",
       "\n"
      ],
      "text/plain": [
       "     [,1]     \n",
       "[1,] 0.9980208"
      ]
     },
     "metadata": {},
     "output_type": "display_data"
    },
    {
     "data": {
      "text/html": [
       "<table>\n",
       "<caption>A matrix: 1 × 1 of type dbl</caption>\n",
       "<tbody>\n",
       "\t<tr><td>0.4932665</td></tr>\n",
       "</tbody>\n",
       "</table>\n"
      ],
      "text/latex": [
       "A matrix: 1 × 1 of type dbl\n",
       "\\begin{tabular}{l}\n",
       "\t 0.4932665\\\\\n",
       "\\end{tabular}\n"
      ],
      "text/markdown": [
       "\n",
       "A matrix: 1 × 1 of type dbl\n",
       "\n",
       "| 0.4932665 |\n",
       "\n"
      ],
      "text/plain": [
       "     [,1]     \n",
       "[1,] 0.4932665"
      ]
     },
     "metadata": {},
     "output_type": "display_data"
    }
   ],
   "source": [
    "rnn_scored[customer_id=='id99']\n",
    "\n",
    "## alter Step 4 to channel-5 \n",
    "df_altered1 = df_paths[customer_id=='id99', V4 := 'channel_5'][customer_id=='id99'] \n",
    "\n",
    "predict(rnn, df_altered1 )  ## Change in pred\n",
    "\n",
    "## alter Step 4 to channel-0 (means not to anything)\n",
    "df_altered2 = df_paths[customer_id=='id99', V4 := 'channel_0'][customer_id=='id99'] \n",
    "predict(rnn, df_altered2 )  ## Change in pred"
   ]
  },
  {
   "cell_type": "markdown",
   "metadata": {},
   "source": [
    "## Inference\n",
    "Such major swings in predictions in business will generally be hard to convince and may even be unacceptable. "
   ]
  },
  {
   "cell_type": "code",
   "execution_count": null,
   "metadata": {},
   "outputs": [],
   "source": []
  }
 ],
 "metadata": {
  "kernelspec": {
   "display_name": "R",
   "language": "R",
   "name": "ir"
  },
  "language_info": {
   "codemirror_mode": "r",
   "file_extension": ".r",
   "mimetype": "text/x-r-source",
   "name": "R",
   "pygments_lexer": "r",
   "version": "3.6.1"
  }
 },
 "nbformat": 4,
 "nbformat_minor": 2
}
